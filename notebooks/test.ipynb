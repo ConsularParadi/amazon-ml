{
 "cells": [
  {
   "cell_type": "markdown",
   "id": "1b70b34e",
   "metadata": {},
   "source": [
    "### Basic library imports"
   ]
  },
  {
   "cell_type": "code",
   "execution_count": 5,
   "id": "cf6a6c84",
   "metadata": {},
   "outputs": [],
   "source": [
    "# %pip install --upgrade --force-reinstall paddlepaddle\n",
    "# %pip install --upgrade --force-reinstall paddleocr"
   ]
  },
  {
   "cell_type": "code",
   "execution_count": 6,
   "id": "719d15af",
   "metadata": {},
   "outputs": [],
   "source": [
    "import os\n",
    "import pandas as pd\n",
    "from paddleocr import PaddleOCR\n",
    "from PIL import Image"
   ]
  },
  {
   "cell_type": "markdown",
   "id": "b8911e33",
   "metadata": {},
   "source": [
    "### Read Dataset"
   ]
  },
  {
   "cell_type": "code",
   "execution_count": 7,
   "id": "d3136aac",
   "metadata": {},
   "outputs": [],
   "source": [
    "DATASET_FOLDER = '../data/'\n",
    "train = pd.read_csv(os.path.join(DATASET_FOLDER, 'train.csv'))\n",
    "test = pd.read_csv(os.path.join(DATASET_FOLDER, 'test.csv'))\n",
    "sample_test = pd.read_csv(os.path.join(DATASET_FOLDER, 'sample.csv'))\n",
    "# sample_test_out = pd.read_csv(os.path.join(DATASET_FOLDER, 'sample_test_out.csv'))"
   ]
  },
  {
   "cell_type": "code",
   "execution_count": 8,
   "id": "b41b8346",
   "metadata": {},
   "outputs": [],
   "source": [
    "IMAGE_FOLDER = \"../images/\"\n",
    "# SAMPLE_IMAGES = os.path.join(IMAGE_FOLDER, 'sample_test')\n",
    "TRAIN_IMAGES = os.path.join(IMAGE_FOLDER, 'train')"
   ]
  },
  {
   "cell_type": "markdown",
   "id": "e181c71f",
   "metadata": {},
   "source": [
    "### Inferencing using PaddleOCR"
   ]
  },
  {
   "cell_type": "code",
   "execution_count": 9,
   "id": "37868235",
   "metadata": {},
   "outputs": [],
   "source": [
    "# ocr = PaddleOCR(use_angle_cls=True, lang='en',use_gpu=False)"
   ]
  },
  {
   "cell_type": "code",
   "execution_count": 10,
   "id": "1d9c738a",
   "metadata": {},
   "outputs": [],
   "source": [
    "# def find_text(image_link, path=SAMPLE_IMAGES):\n",
    "#     image = image_link.split(\"/\")[-1]\n",
    "#     image_path = os.path.join(path, image)\n",
    "#     if not os.path.exists(image_path):\n",
    "#         return \"\"\n",
    "#     result = ocr.ocr(image_path, cls=True)[0]\n",
    "#     try:\n",
    "#         text = '\\n'.join([line[1][0] for line in result])\n",
    "#     except:\n",
    "#         text = \"\"\n",
    "#     return text\n",
    "\n",
    "\n",
    "# sample_test[\"output\"] = sample_test[\"image_link\"].apply(find_text)\n",
    "# for index, row in sample_test.iterrows():\n",
    "    # sample_test.at[index, 'output'] = find_text(row['image_link'])\n",
    "\n",
    "# sample_test.head()    "
   ]
  },
  {
   "cell_type": "code",
   "execution_count": 11,
   "id": "54da71eb",
   "metadata": {},
   "outputs": [],
   "source": [
    "# sample_test.to_csv(os.path.join(DATASET_FOLDER, 'sample_test_output.csv'), index=False)"
   ]
  },
  {
   "cell_type": "code",
   "execution_count": 12,
   "id": "d21fd5b2",
   "metadata": {},
   "outputs": [],
   "source": [
    "# TEST = os.path.join(IMAGE_FOLDER, 'test')\n",
    "\n",
    "# for index, row in test.iterrows():\n",
    "#     test.at[index, 'output'] = find_text(row['image_link'], TEST)\n",
    "#     break\n",
    "\n",
    "# print(TEST)"
   ]
  },
  {
   "cell_type": "code",
   "execution_count": 13,
   "id": "51b40b05",
   "metadata": {},
   "outputs": [],
   "source": [
    "# TRAIN = os.path.join(IMAGE_FOLDER, 'train')\n",
    "\n",
    "# for index, row in train.iterrows():\n",
    "#     train.at[index, 'output'] = find_text(row['image_link'], TRAIN)\n",
    "#     print(index)"
   ]
  },
  {
   "cell_type": "code",
   "execution_count": 14,
   "id": "adabfdb8",
   "metadata": {},
   "outputs": [],
   "source": [
    "# train.to_csv(os.path.join(DATASET_FOLDER, 'train_output.csv'), index=False)"
   ]
  },
  {
   "cell_type": "code",
   "execution_count": null,
   "id": "f5829dd0",
   "metadata": {},
   "outputs": [],
   "source": [
    "from utils import download_images\n",
    "    download_images(train['image_link'], TRAIN_IMAGES)"
   ]
  },
  {
   "cell_type": "code",
   "execution_count": null,
   "id": "58d9bbc6",
   "metadata": {},
   "outputs": [],
   "source": []
  }
 ],
 "metadata": {
  "kernelspec": {
   "display_name": "Python 3",
   "language": "python",
   "name": "python3"
  },
  "language_info": {
   "codemirror_mode": {
    "name": "ipython",
    "version": 3
   },
   "file_extension": ".py",
   "mimetype": "text/x-python",
   "name": "python",
   "nbconvert_exporter": "python",
   "pygments_lexer": "ipython3",
   "version": "3.12.4"
  }
 },
 "nbformat": 4,
 "nbformat_minor": 5
}
