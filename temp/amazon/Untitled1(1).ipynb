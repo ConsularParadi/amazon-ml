{
  "cells": [
    {
      "cell_type": "code",
      "execution_count": 1,
      "metadata": {
        "id": "tFVHP-sYKQMM"
      },
      "outputs": [
        {
          "name": "stdout",
          "output_type": "stream",
          "text": [
            "Note: you may need to restart the kernel to use updated packages.\n",
            "Note: you may need to restart the kernel to use updated packages.\n",
            "Defaulting to user installation because normal site-packages is not writeable\n",
            "Requirement already satisfied: pandas in /home/rishisharma/.local/lib/python3.10/site-packages (2.0.2)\n",
            "Requirement already satisfied: tqdm in /home/rishisharma/.local/lib/python3.10/site-packages (4.64.1)\n",
            "Requirement already satisfied: python-dateutil>=2.8.2 in /home/rishisharma/.local/lib/python3.10/site-packages (from pandas) (2.8.2)\n",
            "Requirement already satisfied: pytz>=2020.1 in /usr/lib/python3/dist-packages (from pandas) (2022.1)\n",
            "Requirement already satisfied: tzdata>=2022.1 in /home/rishisharma/.local/lib/python3.10/site-packages (from pandas) (2023.3)\n",
            "Requirement already satisfied: numpy>=1.21.0 in /home/rishisharma/.local/lib/python3.10/site-packages (from pandas) (1.24.3)\n",
            "Requirement already satisfied: six>=1.5 in /usr/lib/python3/dist-packages (from python-dateutil>=2.8.2->pandas) (1.16.0)\n",
            "Note: you may need to restart the kernel to use updated packages.\n"
          ]
        }
      ],
      "source": [
        "%pip install -q paddlepaddle\n",
        "%pip install -q paddleocr\n",
        "%pip install pandas tqdm"
      ]
    },
    {
      "cell_type": "code",
      "execution_count": 2,
      "metadata": {
        "id": "eXy-ZwNfKco5"
      },
      "outputs": [
        {
          "name": "stderr",
          "output_type": "stream",
          "text": [
            "/usr/lib/python3/dist-packages/paramiko/transport.py:237: CryptographyDeprecationWarning: Blowfish has been deprecated\n",
            "  \"class\": algorithms.Blowfish,\n"
          ]
        }
      ],
      "source": [
        "import os\n",
        "import pandas as pd\n",
        "from paddleocr import PaddleOCR\n",
        "from PIL import Image\n",
        "from utils import download_images\n",
        "import shutil\n",
        "from multiprocessing import Pool\n",
        "from tqdm import tqdm\n",
        "import sys\n",
        "import gc\n",
        "from IPython.display import clear_output"
      ]
    },
    {
      "cell_type": "code",
      "execution_count": 3,
      "metadata": {
        "id": "mZ11z090MPJ5"
      },
      "outputs": [],
      "source": [
        "DATASET_FOLDER = \"./\"\n",
        "IMAGE_FOLDER = \"./images\"\n",
        "TEST_IMAGES = os.path.join(IMAGE_FOLDER, \"test\")\n",
        "test = pd.read_csv(os.path.join(DATASET_FOLDER, 'test.csv'))\n",
        "test[\"output\"] = \"\""
      ]
    },
    {
      "cell_type": "code",
      "execution_count": 4,
      "metadata": {},
      "outputs": [],
      "source": [
        "import cv2"
      ]
    },
    {
      "cell_type": "code",
      "execution_count": 5,
      "metadata": {
        "id": "W-kZmvJzo8gO"
      },
      "outputs": [],
      "source": [
        "def find_text(image_link, path, ocr):\n",
        "    image = image_link.split(\"/\")[-1]\n",
        "    image_path = os.path.join(path, image)\n",
        "    if not os.path.exists(image_path):\n",
        "        return \"\"\n",
        "    image = cv2.imread(image_path)\n",
        "    if image is None:\n",
        "        # If image fails to load, return empty string\n",
        "        print(f\"Failed to load image at {image_path}\")\n",
        "        return \"\"\n",
        "    try:\n",
        "      result = ocr.ocr(image_path, cls=True)[0]\n",
        "    except:\n",
        "       text = \"\"\n",
        "    try:\n",
        "        text = '\\n'.join([line[1][0] for line in result])\n",
        "    except:\n",
        "        text = \"\"\n",
        "    return text\n",
        "\n",
        "def process_data(train, start, end, path=TEST_IMAGES):\n",
        "  ocr = PaddleOCR(use_angle_cls=True, lang='en',use_gpu=False)\n",
        "  download_images(train[start:end][\"image_link\"], path)\n",
        "  for index, row in tqdm(train[start:end].iterrows()):\n",
        "    result = find_text(row['image_link'], path, ocr)\n",
        "    if result != \"\":\n",
        "      train.at[index, 'output'] = result\n",
        "  del ocr\n",
        "  gc.collect()\n",
        "  return train\n",
        "\n",
        "def restart():\n",
        "  if os.path.exists(TEST_IMAGES):\n",
        "    shutil.rmtree(TEST_IMAGES)\n",
        "  os.makedirs(TEST_IMAGES)"
      ]
    },
    {
      "cell_type": "code",
      "execution_count": 6,
      "metadata": {
        "id": "cM3AX3i9mRTv"
      },
      "outputs": [],
      "source": [
        "start = 104500\n",
        "end = 105000"
      ]
    },
    {
      "cell_type": "code",
      "execution_count": 8,
      "metadata": {
        "colab": {
          "base_uri": "https://localhost:8080/"
        },
        "id": "c6OKR55xMkQx",
        "outputId": "6bdaf39f-6e9d-438a-b7ed-e89fa8911f78"
      },
      "outputs": [
        {
          "name": "stdout",
          "output_type": "stream",
          "text": [
            "\n",
            "[INFORMATION]  Processing Upto:  106000 \n",
            "\n",
            "[2024/09/16 04:21:36] ppocr DEBUG: Namespace(help='==SUPPRESS==', use_gpu=False, use_xpu=False, use_npu=False, use_mlu=False, ir_optim=True, use_tensorrt=False, min_subgraph_size=15, precision='fp32', gpu_mem=500, gpu_id=0, image_dir=None, page_num=0, det_algorithm='DB', det_model_dir='/home/rishisharma/.paddleocr/whl/det/en/en_PP-OCRv3_det_infer', det_limit_side_len=960, det_limit_type='max', det_box_type='quad', det_db_thresh=0.3, det_db_box_thresh=0.6, det_db_unclip_ratio=1.5, max_batch_size=10, use_dilation=False, det_db_score_mode='fast', det_east_score_thresh=0.8, det_east_cover_thresh=0.1, det_east_nms_thresh=0.2, det_sast_score_thresh=0.5, det_sast_nms_thresh=0.2, det_pse_thresh=0, det_pse_box_thresh=0.85, det_pse_min_area=16, det_pse_scale=1, scales=[8, 16, 32], alpha=1.0, beta=1.0, fourier_degree=5, rec_algorithm='SVTR_LCNet', rec_model_dir='/home/rishisharma/.paddleocr/whl/rec/en/en_PP-OCRv4_rec_infer', rec_image_inverse=True, rec_image_shape='3, 48, 320', rec_batch_num=6, max_text_length=25, rec_char_dict_path='/home/rishisharma/.local/lib/python3.10/site-packages/paddleocr/ppocr/utils/en_dict.txt', use_space_char=True, vis_font_path='./doc/fonts/simfang.ttf', drop_score=0.5, e2e_algorithm='PGNet', e2e_model_dir=None, e2e_limit_side_len=768, e2e_limit_type='max', e2e_pgnet_score_thresh=0.5, e2e_char_dict_path='./ppocr/utils/ic15_dict.txt', e2e_pgnet_valid_set='totaltext', e2e_pgnet_mode='fast', use_angle_cls=True, cls_model_dir='/home/rishisharma/.paddleocr/whl/cls/ch_ppocr_mobile_v2.0_cls_infer', cls_image_shape='3, 48, 192', label_list=['0', '180'], cls_batch_num=6, cls_thresh=0.9, enable_mkldnn=False, cpu_threads=10, use_pdserving=False, warmup=False, sr_model_dir=None, sr_image_shape='3, 32, 128', sr_batch_num=1, draw_img_save_dir='./inference_results', save_crop_res=False, crop_res_save_dir='./output', use_mp=False, total_process_num=1, process_id=0, benchmark=False, save_log_path='./log_output/', show_log=True, use_onnx=False, return_word_box=False, output='./output', table_max_len=488, table_algorithm='TableAttn', table_model_dir=None, merge_no_span_structure=True, table_char_dict_path=None, layout_model_dir=None, layout_dict_path=None, layout_score_threshold=0.5, layout_nms_threshold=0.5, kie_algorithm='LayoutXLM', ser_model_dir=None, re_model_dir=None, use_visual_backbone=True, ser_dict_path='../train_data/XFUND/class_list_xfun.txt', ocr_order_method=None, mode='structure', image_orientation=False, layout=True, table=True, ocr=True, recovery=False, use_pdf2docx_api=False, invert=False, binarize=False, alphacolor=(255, 255, 255), lang='en', det=True, rec=True, type='ocr', savefile=False, ocr_version='PP-OCRv4', structure_version='PP-StructureV2')\n"
          ]
        },
        {
          "name": "stderr",
          "output_type": "stream",
          "text": [
            " 24%|██▍       | 119/500 [05:51<18:46,  2.96s/it]\n"
          ]
        },
        {
          "name": "stdout",
          "output_type": "stream",
          "text": [
            "\n",
            "\n",
            "--------------------------------------\n",
            "C++ Traceback (most recent call last):\n",
            "--------------------------------------\n",
            "No stack trace in paddle, may be caused by external reasons.\n",
            "\n",
            "----------------------\n",
            "Error Message Summary:\n",
            "----------------------\n",
            "FatalError: `Termination signal` is detected by the operating system.\n",
            "  [TimeInfo: *** Aborted at 1726441056 (unix time) try \"date -d @1726441056\" if you are using GNU date ***]\n",
            "  [SignalInfo: *** SIGTERM (@0x3ed0000c21f) received by PID 50369 (TID 0x7cd3595c31c0) from PID 49695 ***]\n",
            "\n",
            "\n",
            "\n",
            "--------------------------------------\n",
            "C++ Traceback (most recent call last):\n",
            "--------------------------------------\n",
            "No stack trace in paddle, may be caused by external reasons.\n",
            "\n",
            "----------------------\n",
            "Error Message Summary:\n",
            "----------------------\n",
            "FatalError: `Termination signal` is detected by the operating system.\n",
            "  [TimeInfo: *** Aborted at 1726441056 (unix time) try \"date -d @1726441056\" if you are using GNU date ***]\n",
            "  [SignalInfo: *** SIGTERM (@0x3ed0000c21f) received by PID 50273 (TID 0x7cd3595c31c0) from PID 49695 ***]\n",
            "\n",
            "\n",
            "\n",
            "--------------------------------------\n",
            "C++ Traceback (most recent call last):\n",
            "--------------------------------------\n",
            "No stack trace in paddle, may be caused by external reasons.\n",
            "\n",
            "----------------------\n",
            "Error Message Summary:\n",
            "----------------------\n",
            "FatalError: `Termination signal` is detected by the operating system.\n",
            "  [TimeInfo: *** Aborted at 1726441056 (unix time) try \"date -d @1726441056\" if you are using GNU date ***]\n",
            "  [SignalInfo: *** SIGTERM (@0x3ed0000c21f) received by PID 50277 (TID 0x7cd3595c31c0) from PID 49695 ***]\n",
            "\n",
            "\n",
            "\n",
            "--------------------------------------\n",
            "C++ Traceback (most recent call last):\n",
            "--------------------------------------\n",
            "No stack trace in paddle, may be caused by external reasons.\n",
            "\n",
            "----------------------\n",
            "Error Message Summary:\n",
            "----------------------\n",
            "FatalError: `Termination signal` is detected by the operating system.\n",
            "  [TimeInfo: *** Aborted at 1726441056 (unix time) try \"date -d @1726441056\" if you are using GNU date ***]\n",
            "  [SignalInfo: *** SIGTERM (@0x3ed0000c21f) received by PID 50313 (TID 0x7cd3595c31c0) from PID 49695 ***]\n",
            "\n"
          ]
        },
        {
          "ename": "KeyboardInterrupt",
          "evalue": "",
          "output_type": "error",
          "traceback": [
            "\u001b[0;31m---------------------------------------------------------------------------\u001b[0m",
            "\u001b[0;31mIndexError\u001b[0m                                Traceback (most recent call last)",
            "File \u001b[0;32m/usr/lib/python3.10/multiprocessing/pool.py:856\u001b[0m, in \u001b[0;36mIMapIterator.next\u001b[0;34m(self, timeout)\u001b[0m\n\u001b[1;32m    855\u001b[0m \u001b[38;5;28;01mtry\u001b[39;00m:\n\u001b[0;32m--> 856\u001b[0m     item \u001b[38;5;241m=\u001b[39m \u001b[38;5;28;43mself\u001b[39;49m\u001b[38;5;241;43m.\u001b[39;49m\u001b[43m_items\u001b[49m\u001b[38;5;241;43m.\u001b[39;49m\u001b[43mpopleft\u001b[49m\u001b[43m(\u001b[49m\u001b[43m)\u001b[49m\n\u001b[1;32m    857\u001b[0m \u001b[38;5;28;01mexcept\u001b[39;00m \u001b[38;5;167;01mIndexError\u001b[39;00m:\n",
            "\u001b[0;31mIndexError\u001b[0m: pop from an empty deque",
            "\nDuring handling of the above exception, another exception occurred:\n",
            "\u001b[0;31mKeyboardInterrupt\u001b[0m                         Traceback (most recent call last)",
            "Cell \u001b[0;32mIn[8], line 3\u001b[0m\n\u001b[1;32m      1\u001b[0m \u001b[38;5;28;01mwhile\u001b[39;00m end \u001b[38;5;241m<\u001b[39m\u001b[38;5;241m=\u001b[39m \u001b[38;5;241m110000\u001b[39m:\n\u001b[1;32m      2\u001b[0m   \u001b[38;5;28mprint\u001b[39m(\u001b[38;5;124m\"\u001b[39m\u001b[38;5;130;01m\\n\u001b[39;00m\u001b[38;5;124m[INFORMATION]\u001b[39m\u001b[38;5;124m\"\u001b[39m, \u001b[38;5;124m\"\u001b[39m\u001b[38;5;124m Processing Upto: \u001b[39m\u001b[38;5;124m\"\u001b[39m, end,\u001b[38;5;124m\"\u001b[39m\u001b[38;5;130;01m\\n\u001b[39;00m\u001b[38;5;124m\"\u001b[39m)\n\u001b[0;32m----> 3\u001b[0m   test \u001b[38;5;241m=\u001b[39m \u001b[43mprocess_data\u001b[49m\u001b[43m(\u001b[49m\u001b[43mtest\u001b[49m\u001b[43m,\u001b[49m\u001b[43m \u001b[49m\u001b[43mstart\u001b[49m\u001b[43m,\u001b[49m\u001b[43m \u001b[49m\u001b[43mend\u001b[49m\u001b[43m,\u001b[49m\u001b[43m \u001b[49m\u001b[43mTEST_IMAGES\u001b[49m\u001b[43m)\u001b[49m\n\u001b[1;32m      4\u001b[0m   \u001b[38;5;28mprint\u001b[39m(\u001b[38;5;124m\"\u001b[39m\u001b[38;5;130;01m\\n\u001b[39;00m\u001b[38;5;124m[INFORMATION]\u001b[39m\u001b[38;5;124m\"\u001b[39m, \u001b[38;5;124m\"\u001b[39m\u001b[38;5;124m Creating checkpoint\u001b[39m\u001b[38;5;130;01m\\n\u001b[39;00m\u001b[38;5;124m\"\u001b[39m)\n\u001b[1;32m      5\u001b[0m   test\u001b[38;5;241m.\u001b[39mto_csv(\u001b[38;5;124mf\u001b[39m\u001b[38;5;124m'\u001b[39m\u001b[38;5;124m./results/test_output_\u001b[39m\u001b[38;5;132;01m{\u001b[39;00mend\u001b[38;5;132;01m}\u001b[39;00m\u001b[38;5;124m.csv\u001b[39m\u001b[38;5;124m'\u001b[39m, index\u001b[38;5;241m=\u001b[39m\u001b[38;5;28;01mFalse\u001b[39;00m)\n",
            "Cell \u001b[0;32mIn[5], line 23\u001b[0m, in \u001b[0;36mprocess_data\u001b[0;34m(train, start, end, path)\u001b[0m\n\u001b[1;32m     21\u001b[0m \u001b[38;5;28;01mdef\u001b[39;00m \u001b[38;5;21mprocess_data\u001b[39m(train, start, end, path\u001b[38;5;241m=\u001b[39mTEST_IMAGES):\n\u001b[1;32m     22\u001b[0m   ocr \u001b[38;5;241m=\u001b[39m PaddleOCR(use_angle_cls\u001b[38;5;241m=\u001b[39m\u001b[38;5;28;01mTrue\u001b[39;00m, lang\u001b[38;5;241m=\u001b[39m\u001b[38;5;124m'\u001b[39m\u001b[38;5;124men\u001b[39m\u001b[38;5;124m'\u001b[39m,use_gpu\u001b[38;5;241m=\u001b[39m\u001b[38;5;28;01mFalse\u001b[39;00m)\n\u001b[0;32m---> 23\u001b[0m   \u001b[43mdownload_images\u001b[49m\u001b[43m(\u001b[49m\u001b[43mtrain\u001b[49m\u001b[43m[\u001b[49m\u001b[43mstart\u001b[49m\u001b[43m:\u001b[49m\u001b[43mend\u001b[49m\u001b[43m]\u001b[49m\u001b[43m[\u001b[49m\u001b[38;5;124;43m\"\u001b[39;49m\u001b[38;5;124;43mimage_link\u001b[39;49m\u001b[38;5;124;43m\"\u001b[39;49m\u001b[43m]\u001b[49m\u001b[43m,\u001b[49m\u001b[43m \u001b[49m\u001b[43mpath\u001b[49m\u001b[43m)\u001b[49m\n\u001b[1;32m     24\u001b[0m   \u001b[38;5;28;01mfor\u001b[39;00m index, row \u001b[38;5;129;01min\u001b[39;00m tqdm(train[start:end]\u001b[38;5;241m.\u001b[39miterrows()):\n\u001b[1;32m     25\u001b[0m     result \u001b[38;5;241m=\u001b[39m find_text(row[\u001b[38;5;124m'\u001b[39m\u001b[38;5;124mimage_link\u001b[39m\u001b[38;5;124m'\u001b[39m], path, ocr)\n",
            "File \u001b[0;32m~/mango_pruning/amazon/utils.py:77\u001b[0m, in \u001b[0;36mdownload_images\u001b[0;34m(image_links, download_folder, allow_multiprocessing)\u001b[0m\n\u001b[1;32m     73\u001b[0m download_image_partial \u001b[38;5;241m=\u001b[39m partial(\n\u001b[1;32m     74\u001b[0m     download_image, save_folder\u001b[38;5;241m=\u001b[39mdownload_folder, retries\u001b[38;5;241m=\u001b[39m\u001b[38;5;241m3\u001b[39m, delay\u001b[38;5;241m=\u001b[39m\u001b[38;5;241m3\u001b[39m)\n\u001b[1;32m     76\u001b[0m \u001b[38;5;28;01mwith\u001b[39;00m multiprocessing\u001b[38;5;241m.\u001b[39mPool(\u001b[38;5;241m64\u001b[39m) \u001b[38;5;28;01mas\u001b[39;00m pool:\n\u001b[0;32m---> 77\u001b[0m     \u001b[38;5;28;43mlist\u001b[39;49m\u001b[43m(\u001b[49m\u001b[43mtqdm\u001b[49m\u001b[43m(\u001b[49m\u001b[43mpool\u001b[49m\u001b[38;5;241;43m.\u001b[39;49m\u001b[43mimap\u001b[49m\u001b[43m(\u001b[49m\u001b[43mdownload_image_partial\u001b[49m\u001b[43m,\u001b[49m\u001b[43m \u001b[49m\u001b[43mimage_links\u001b[49m\u001b[43m)\u001b[49m\u001b[43m,\u001b[49m\u001b[43m \u001b[49m\u001b[43mtotal\u001b[49m\u001b[38;5;241;43m=\u001b[39;49m\u001b[38;5;28;43mlen\u001b[39;49m\u001b[43m(\u001b[49m\u001b[43mimage_links\u001b[49m\u001b[43m)\u001b[49m\u001b[43m)\u001b[49m\u001b[43m)\u001b[49m\n\u001b[1;32m     78\u001b[0m     pool\u001b[38;5;241m.\u001b[39mclose()\n\u001b[1;32m     79\u001b[0m     pool\u001b[38;5;241m.\u001b[39mjoin()\n",
            "File \u001b[0;32m~/.local/lib/python3.10/site-packages/tqdm/std.py:1195\u001b[0m, in \u001b[0;36mtqdm.__iter__\u001b[0;34m(self)\u001b[0m\n\u001b[1;32m   1192\u001b[0m time \u001b[38;5;241m=\u001b[39m \u001b[38;5;28mself\u001b[39m\u001b[38;5;241m.\u001b[39m_time\n\u001b[1;32m   1194\u001b[0m \u001b[38;5;28;01mtry\u001b[39;00m:\n\u001b[0;32m-> 1195\u001b[0m     \u001b[38;5;28;01mfor\u001b[39;00m obj \u001b[38;5;129;01min\u001b[39;00m iterable:\n\u001b[1;32m   1196\u001b[0m         \u001b[38;5;28;01myield\u001b[39;00m obj\n\u001b[1;32m   1197\u001b[0m         \u001b[38;5;66;03m# Update and possibly print the progressbar.\u001b[39;00m\n\u001b[1;32m   1198\u001b[0m         \u001b[38;5;66;03m# Note: does not call self.update(1) for speed optimisation.\u001b[39;00m\n",
            "File \u001b[0;32m/usr/lib/python3.10/multiprocessing/pool.py:861\u001b[0m, in \u001b[0;36mIMapIterator.next\u001b[0;34m(self, timeout)\u001b[0m\n\u001b[1;32m    859\u001b[0m     \u001b[38;5;28mself\u001b[39m\u001b[38;5;241m.\u001b[39m_pool \u001b[38;5;241m=\u001b[39m \u001b[38;5;28;01mNone\u001b[39;00m\n\u001b[1;32m    860\u001b[0m     \u001b[38;5;28;01mraise\u001b[39;00m \u001b[38;5;167;01mStopIteration\u001b[39;00m \u001b[38;5;28;01mfrom\u001b[39;00m \u001b[38;5;28mNone\u001b[39m\n\u001b[0;32m--> 861\u001b[0m \u001b[38;5;28;43mself\u001b[39;49m\u001b[38;5;241;43m.\u001b[39;49m\u001b[43m_cond\u001b[49m\u001b[38;5;241;43m.\u001b[39;49m\u001b[43mwait\u001b[49m\u001b[43m(\u001b[49m\u001b[43mtimeout\u001b[49m\u001b[43m)\u001b[49m\n\u001b[1;32m    862\u001b[0m \u001b[38;5;28;01mtry\u001b[39;00m:\n\u001b[1;32m    863\u001b[0m     item \u001b[38;5;241m=\u001b[39m \u001b[38;5;28mself\u001b[39m\u001b[38;5;241m.\u001b[39m_items\u001b[38;5;241m.\u001b[39mpopleft()\n",
            "File \u001b[0;32m/usr/lib/python3.10/threading.py:320\u001b[0m, in \u001b[0;36mCondition.wait\u001b[0;34m(self, timeout)\u001b[0m\n\u001b[1;32m    318\u001b[0m \u001b[38;5;28;01mtry\u001b[39;00m:    \u001b[38;5;66;03m# restore state no matter what (e.g., KeyboardInterrupt)\u001b[39;00m\n\u001b[1;32m    319\u001b[0m     \u001b[38;5;28;01mif\u001b[39;00m timeout \u001b[38;5;129;01mis\u001b[39;00m \u001b[38;5;28;01mNone\u001b[39;00m:\n\u001b[0;32m--> 320\u001b[0m         \u001b[43mwaiter\u001b[49m\u001b[38;5;241;43m.\u001b[39;49m\u001b[43macquire\u001b[49m\u001b[43m(\u001b[49m\u001b[43m)\u001b[49m\n\u001b[1;32m    321\u001b[0m         gotit \u001b[38;5;241m=\u001b[39m \u001b[38;5;28;01mTrue\u001b[39;00m\n\u001b[1;32m    322\u001b[0m     \u001b[38;5;28;01melse\u001b[39;00m:\n",
            "\u001b[0;31mKeyboardInterrupt\u001b[0m: "
          ]
        }
      ],
      "source": [
        "while end <= 110000:\n",
        "  print(\"\\n[INFORMATION]\", \" Processing Upto: \", end,\"\\n\")\n",
        "  test = process_data(test, start, end, TEST_IMAGES)\n",
        "  print(\"\\n[INFORMATION]\", \" Creating checkpoint\\n\")\n",
        "  test.to_csv(f'./results/test_output_{end}.csv', index=False)\n",
        "  restart()\n",
        "  start = end\n",
        "  end = min(end + 500, 110000)\n",
        "  clear_output(wait=True)\n",
        "  # with Pool() as pool:\n",
        "  #   for index, result in tqdm(pool.imap(process_row, train.iterrows()), total=len(train[\"image_link\"])):\n",
        "  #     if train.at[index, \"output\"] == \"\" and result != \"\":\n",
        "  #       train.at[index, 'output'] = result\n",
        "  #       count += 1\n",
        "  #     if count == end - start:\n",
        "  #       break\n",
        "  # train.to_csv('/content/drive/MyDrive/train_output.csv', index=False)\n",
        "  # if os.path.exists(TRAIN_IMAGES):\n",
        "  #   shutil.rmtree(TRAIN_IMAGES)\n",
        "  #   os.makedirs(TRAIN_IMAGES)"
      ]
    },
    {
      "cell_type": "code",
      "execution_count": null,
      "metadata": {
        "id": "I_OBSibxtSzb"
      },
      "outputs": [],
      "source": [
        "df = pd.read_csv('results/test_output_20000.csv')"
      ]
    },
    {
      "cell_type": "code",
      "execution_count": null,
      "metadata": {
        "id": "DZROlQV6uPZ8"
      },
      "outputs": [
        {
          "data": {
            "text/plain": [
              "'3.3 in/8.5 cm\\n8.3 in/21cm'"
            ]
          },
          "execution_count": 12,
          "metadata": {},
          "output_type": "execute_result"
        }
      ],
      "source": [
        "df[\"output\"][19999]"
      ]
    },
    {
      "cell_type": "code",
      "execution_count": null,
      "metadata": {
        "id": "uWS-nGbVkluv"
      },
      "outputs": [],
      "source": []
    }
  ],
  "metadata": {
    "colab": {
      "provenance": []
    },
    "kernelspec": {
      "display_name": "Python 3",
      "name": "python3"
    },
    "language_info": {
      "codemirror_mode": {
        "name": "ipython",
        "version": 3
      },
      "file_extension": ".py",
      "mimetype": "text/x-python",
      "name": "python",
      "nbconvert_exporter": "python",
      "pygments_lexer": "ipython3",
      "version": "3.10.12"
    }
  },
  "nbformat": 4,
  "nbformat_minor": 0
}
